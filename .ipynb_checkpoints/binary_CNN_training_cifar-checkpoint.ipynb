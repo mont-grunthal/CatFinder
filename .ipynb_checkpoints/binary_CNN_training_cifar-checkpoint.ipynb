{
 "cells": [
  {
   "cell_type": "code",
   "execution_count": 1,
   "metadata": {},
   "outputs": [],
   "source": [
    "from keras.datasets import cifar10\n",
    "from keras.utils import np_utils\n",
    "from keras.layers import Dense, Dropout, Conv2D, Flatten, MaxPooling2D, ZeroPadding2D\n",
    "from keras.models import model_from_json, Sequential\n",
    "from keras.regularizers import l2\n",
    "from keras import optimizers\n",
    "from keras.preprocessing.image import ImageDataGenerator\n",
    "from sklearn.utils import class_weight\n",
    "import numpy as np\n",
    "import matplotlib.pyplot as plt"
   ]
  },
  {
   "cell_type": "code",
   "execution_count": 2,
   "metadata": {},
   "outputs": [],
   "source": [
    "# loading the dataset\n",
    "(X_train, y_train), (X_test, y_test) = cifar10.load_data()"
   ]
  },
  {
   "cell_type": "code",
   "execution_count": 3,
   "metadata": {},
   "outputs": [],
   "source": [
    "#relable classes to be either cat or not cat and resize data\n",
    "for i,y in enumerate(y_train):\n",
    "    if y != 3:\n",
    "        y_train[i] = 0\n",
    "    if y == 3:\n",
    "        y_train[i] = 1\n",
    "        \n",
    "for i,y in enumerate(y_test):\n",
    "    if y != 3:\n",
    "        y_test[i] = 0\n",
    "    if y == 3:\n",
    "        y_test[i] = 1\n",
    "        \n",
    "        \n",
    "        \n",
    "        \n",
    "#so there are 9 non cats for each cat\n",
    "#niave undersampling used\n",
    "\n",
    "        \n",
    "dx_train = list(X_train)\n",
    "dy_train = list(y_train)\n",
    "\n",
    "dx_test = list(X_test)\n",
    "dy_test = list(y_test)\n",
    "\n",
    "\n",
    "i = 0\n",
    "zeros1 = []\n",
    "while len(zeros1) <=  39999 and (i < 45000):\n",
    "    if dy_train[i] == 0:\n",
    "        zeros1.append(i)\n",
    "    i += 1\n",
    "        \n",
    "for index in sorted(zeros1, reverse=True):\n",
    "    del dy_train[index]\n",
    "    del dx_train[index]\n",
    "\n",
    "      \n",
    "\n",
    "zeros2 = []\n",
    "i = 0\n",
    "while len(zeros2) <= 7999 and (i < 9000):\n",
    "    if dy_test[i] == 0:\n",
    "        zeros2.append(i)\n",
    "    i += 1\n",
    "        \n",
    "for index in sorted(zeros2, reverse=True):\n",
    "    del dy_test[index]\n",
    "    del dx_test[index]\n",
    "    \n",
    "\n",
    "X_train = np.asanyarray(dx_train)\n",
    "y_train = np.asanyarray(dy_train)\n",
    "\n",
    "X_test = np.asanyarray(dx_test)\n",
    "y_test = np.asanyarray(dy_test)\n",
    "\n",
    "#Now there is a roughly even number of each class but its all cats then all non cats\n",
    "#must suffle arrays in unison\n",
    "\n",
    "shuffler = np.random.permutation(len(X_train))\n",
    "\n",
    "X_train = X_train[shuffler]\n",
    "\n",
    "y_train = y_train[shuffler]\n",
    "\n",
    "shuffler = np.random.permutation(len(X_test))\n",
    "\n",
    "X_test = X_test[shuffler]\n",
    "\n",
    "y_test = y_test[shuffler]"
   ]
  },
  {
   "cell_type": "code",
   "execution_count": 4,
   "metadata": {},
   "outputs": [
    {
     "name": "stdout",
     "output_type": "stream",
     "text": [
      "10000\n",
      "10000\n",
      "2000\n",
      "2000\n",
      "5000\n",
      "10000\n",
      "1000\n",
      "2000\n",
      "[[1]\n",
      " [0]\n",
      " [0]\n",
      " ...\n",
      " [0]\n",
      " [1]\n",
      " [1]]\n"
     ]
    }
   ],
   "source": [
    "print(\"len of x and y train\")\n",
    "print(len(X_train))\n",
    "print(len(y_train))\n",
    "print(\"len of x and y test\")\n",
    "print(len(X_test))\n",
    "print(len(y_test))\n",
    "\n",
    "print(\"num cat images vs all else in test set\")\n",
    "print(np.sum(y_train))\n",
    "print(len(y_train))\n",
    "\n",
    "print(\"num cat images vs all else in train set\")\n",
    "print(np.sum(y_test))\n",
    "print(len(y_test))"
   ]
  },
  {
   "cell_type": "code",
   "execution_count": 5,
   "metadata": {},
   "outputs": [],
   "source": [
    "# preprocess data\n",
    "X_train = X_train.reshape(X_train.shape[0], 32, 32, 3)\n",
    "X_test = X_test.reshape(X_test.shape[0], 32, 32, 3)\n",
    "X_train = X_train.astype('float32')\n",
    "X_test = X_test.astype('float32')\n",
    "X_test /= 255\n",
    "X_train /= 255\n",
    "\n",
    "\n",
    "# data augmentation\n",
    "\n",
    "# Images from twitter follow no standards, thus shifts and flips,\n",
    "# and any other problem of amature photography should be assumed to occur.\n",
    "\n",
    "datagen = ImageDataGenerator(width_shift_range=.2, height_shift_range=.2,\n",
    "                             rotation_range=90,\n",
    "                             brightness_range=[0.2,1.0])\n",
    "datagen.fit(X_train)"
   ]
  },
  {
   "cell_type": "code",
   "execution_count": 21,
   "metadata": {},
   "outputs": [],
   "source": [
    "# dropout/reg added to combat overfitting.\n",
    "# very weak regularizaion added as per current literature.\n",
    "\n",
    "model = Sequential()\n",
    "model.add(ZeroPadding2D(padding=(1,1)))\n",
    "\n",
    "\n",
    "model.add(Conv2D(filters=64,kernel_size=(3,3),padding=\"same\", activation=\"relu\"))\n",
    "model.add(MaxPooling2D(pool_size=(2,2),strides=(2,2)))\n",
    "\n",
    "model.add(Conv2D(filters=128, kernel_size=(3,3), padding=\"same\", activation=\"relu\"))\n",
    "model.add(MaxPooling2D(pool_size=(2,2),strides=(2,2)))\n",
    "\n",
    "model.add(Conv2D(filters=256, kernel_size=(3,3), padding=\"same\", activation=\"relu\"))\n",
    "model.add(MaxPooling2D(pool_size=(2,2),strides=(2,2)))\n",
    "\n",
    "model.add(Conv2D(filters=512, kernel_size=(3,3), padding=\"same\", activation=\"relu\"))\n",
    "model.add(MaxPooling2D(pool_size=(2,2),strides=(2,2)))\n",
    "\n",
    "model.add(Conv2D(filters=1024, kernel_size=(3,3), padding=\"same\", activation=\"relu\"))\n",
    "model.add(MaxPooling2D(pool_size=(2,2),strides=(2,2)))\n",
    "\n",
    "model.add(Flatten())\n",
    "model.add(Dense(2048, activation='relu',kernel_regularizer=l2(10**-4), bias_regularizer=l2(10**-4)))\n",
    "model.add(Dropout(0.5))\n",
    "model.add(Dense(1, activation='sigmoid'))\n",
    "\n",
    "model.compile(loss='binary_crossentropy', metrics=['accuracy'], optimizer=optimizers.Adam(lr=1e-5))"
   ]
  },
  {
   "cell_type": "code",
   "execution_count": null,
   "metadata": {
    "scrolled": false
   },
   "outputs": [
    {
     "name": "stdout",
     "output_type": "stream",
     "text": [
      "Epoch 1/50\n",
      "313/313 [==============================] - 314s 1s/step - loss: 1.0238 - accuracy: 0.5698 - val_loss: 0.8221 - val_accuracy: 0.5755\n",
      "Epoch 2/50\n",
      "180/313 [================>.............] - ETA: 2:13 - loss: 0.8234 - accuracy: 0.6047"
     ]
    }
   ],
   "source": [
    "# improved training method to reduce overfitting\n",
    "mod = model.fit(datagen.flow(X_train, y_train, batch_size=32),\n",
    "    validation_data=(X_test, y_test), epochs=50)"
   ]
  },
  {
   "cell_type": "code",
   "execution_count": null,
   "metadata": {},
   "outputs": [],
   "source": [
    "## serialize model to JSON\n",
    "model_json = model.to_json()\n",
    "with open(\"model_3.json\", \"w\") as json_file:\n",
    "    json_file.write(model_json)\n",
    "# serialize weights to HDF5\n",
    "model.save_weights(\"model_3.h5\")"
   ]
  }
 ],
 "metadata": {
  "kernelspec": {
   "display_name": "Python 3",
   "language": "python",
   "name": "python3"
  },
  "language_info": {
   "codemirror_mode": {
    "name": "ipython",
    "version": 3
   },
   "file_extension": ".py",
   "mimetype": "text/x-python",
   "name": "python",
   "nbconvert_exporter": "python",
   "pygments_lexer": "ipython3",
   "version": "3.7.4"
  }
 },
 "nbformat": 4,
 "nbformat_minor": 2
}
