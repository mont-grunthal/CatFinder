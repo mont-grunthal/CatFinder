{
 "cells": [
  {
   "cell_type": "code",
   "execution_count": 1,
   "metadata": {},
   "outputs": [],
   "source": [
    "#import packages\n",
    "from keras.models import model_from_json\n",
    "import tensorflow as tf\n",
    "import numpy as np\n",
    "from tensorflow import keras\n",
    "import glob"
   ]
  },
  {
   "cell_type": "code",
   "execution_count": 1,
   "metadata": {},
   "outputs": [],
   "source": [
    "#preprocess the images and keep a list of the unprocessed images.\n",
    "def process_images(data_path):\n",
    "    files = glob.glob(data_path)\n",
    "    data = []\n",
    "    for f1 in files:\n",
    "        img = keras.preprocessing.image.load_img(f1)\n",
    "        #[m,n,k] = np.shape(img)\n",
    "        #switch when new model is trained\n",
    "        [m,n,k] = 64,64,3\n",
    "        img_array = keras.preprocessing.image.load_img(f1, target_size=(m,n,k))\n",
    "        img_array = keras.preprocessing.image.img_to_array(img_array)\n",
    "        img_array /= 255\n",
    "        img_array = tf.expand_dims(img_array, 0)  # Create batch axis\n",
    "        data.append(img_array)\n",
    "        \n",
    "    return data"
   ]
  },
  {
   "cell_type": "code",
   "execution_count": 12,
   "metadata": {},
   "outputs": [],
   "source": [
    "#use the CNN to predict if any of the images are likely to be cats and populate list if they are\n",
    "def final_answer(data,loaded_model):\n",
    "    is_cat = np.zeros(len(data))\n",
    "    for i,img in enumerate(data):\n",
    "        if loaded_model.predict(img)[0] > .5:\n",
    "            is_cat[i] = 1\n",
    "    return is_cat"
   ]
  },
  {
   "cell_type": "code",
   "execution_count": 9,
   "metadata": {},
   "outputs": [],
   "source": [
    "if __name__ == \"__main__\": \n",
    "    process_images()\n",
    "    final_answer()"
   ]
  }
 ],
 "metadata": {
  "kernelspec": {
   "display_name": "Python 3",
   "language": "python",
   "name": "python3"
  },
  "language_info": {
   "codemirror_mode": {
    "name": "ipython",
    "version": 3
   },
   "file_extension": ".py",
   "mimetype": "text/x-python",
   "name": "python",
   "nbconvert_exporter": "python",
   "pygments_lexer": "ipython3",
   "version": "3.7.4"
  }
 },
 "nbformat": 4,
 "nbformat_minor": 2
}
