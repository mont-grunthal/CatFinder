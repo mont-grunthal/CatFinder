{
 "cells": [
  {
   "cell_type": "code",
   "execution_count": 4,
   "metadata": {},
   "outputs": [],
   "source": [
    "#import packages for crawler\n",
    "import tweepy\n",
    "import requests\n",
    "import shutil\n",
    "import os"
   ]
  },
  {
   "cell_type": "code",
   "execution_count": 5,
   "metadata": {},
   "outputs": [],
   "source": [
    "def get_img(api,username):\n",
    "    # Iterate through the first 200 statuses in the friends timeline\n",
    "    tweets =  tweepy.Cursor(api.home_timeline).items(200)\n",
    "\n",
    "\n",
    "\n",
    "    #download all media files to current working dir.\n",
    "    #fix 2: download to twitter_images dir.\n",
    "    media_files = []\n",
    "    tweet_id = []\n",
    "    for status in tweets:\n",
    "        media = status.entities.get('media', [])\n",
    "        if(len(media) > 0):\n",
    "            media_files.append(media[0]['media_url'])\n",
    "            tweet_id.append(status.id)\n",
    "\n",
    "\n",
    "    path = os.path.dirname(os.path.realpath(\"twitter_crawler_api\"))\n",
    "    path = os.path.join(path, \"twitter_images\")\n",
    "    if os.path.exists(path):\n",
    "        shutil.rmtree(path)\n",
    "    os.makedirs(path)        \n",
    "\n",
    "    for media_file in media_files:\n",
    "        if (media_file.split('.')[-1].lower() == 'jpg') or (media_file.split('.')[-1].lower() == 'png'):\n",
    "            res = requests.get(media_file)\n",
    "            imagefile = open(os.path.join('twitter_images', os.path.basename(media_file)), 'wb')\n",
    "            for chunk in res.iter_content(100000):\n",
    "                imagefile.write(chunk)\n",
    "            imagefile.close()\n",
    "    return tweet_id"
   ]
  },
  {
   "cell_type": "code",
   "execution_count": 6,
   "metadata": {},
   "outputs": [],
   "source": [
    "def get_cats(is_cat,tweet_id,api):\n",
    "    path = os.path.dirname(os.path.realpath(\"twitter_crawler_api\"))\n",
    "    path = os.path.join(path, \"cat_images\")\n",
    "    if os.path.exists(path):\n",
    "        shutil.rmtree(path)\n",
    "    os.makedirs(path)    \n",
    "    tweet_id_out = tweet_id.copy()\n",
    "    for i,cat in enumerate(is_cat):\n",
    "        if cat != 1:\n",
    "            tweet_id_out.remove(tweet_id[i])\n",
    "    tweets = api.statuses_lookup(tweet_id_out)\n",
    "    media_files = []\n",
    "    for status in tweets:\n",
    "        media = status.entities.get('media', [])\n",
    "        if(len(media) > 0):\n",
    "            media_files.append(media[0]['media_url'])\n",
    "            \n",
    "    for media_file in media_files:\n",
    "        if (media_file.split('.')[-1].lower() == 'jpg') or (media_file.split('.')[-1].lower() == 'png'):\n",
    "            res = requests.get(media_file)\n",
    "            imagefile = open(os.path.join('cat_images', os.path.basename(media_file)), 'wb')\n",
    "            for chunk in res.iter_content(100000):\n",
    "                imagefile.write(chunk)\n",
    "            imagefile.close()"
   ]
  },
  {
   "cell_type": "code",
   "execution_count": 7,
   "metadata": {},
   "outputs": [
    {
     "ename": "TypeError",
     "evalue": "get_img() missing 2 required positional arguments: 'api' and 'username'",
     "output_type": "error",
     "traceback": [
      "\u001b[1;31m---------------------------------------------------------------------------\u001b[0m",
      "\u001b[1;31mTypeError\u001b[0m                                 Traceback (most recent call last)",
      "\u001b[1;32m<ipython-input-7-f6fbfe58789a>\u001b[0m in \u001b[0;36m<module>\u001b[1;34m\u001b[0m\n\u001b[0;32m      1\u001b[0m \u001b[1;32mif\u001b[0m \u001b[0m__name__\u001b[0m \u001b[1;33m==\u001b[0m \u001b[1;34m\"__main__\"\u001b[0m\u001b[1;33m:\u001b[0m\u001b[1;33m\u001b[0m\u001b[1;33m\u001b[0m\u001b[0m\n\u001b[1;32m----> 2\u001b[1;33m     \u001b[0mget_img\u001b[0m\u001b[1;33m(\u001b[0m\u001b[1;33m)\u001b[0m\u001b[1;33m\u001b[0m\u001b[1;33m\u001b[0m\u001b[0m\n\u001b[0m\u001b[0;32m      3\u001b[0m     \u001b[0mget_cats\u001b[0m\u001b[1;33m(\u001b[0m\u001b[1;33m)\u001b[0m\u001b[1;33m\u001b[0m\u001b[1;33m\u001b[0m\u001b[0m\n",
      "\u001b[1;31mTypeError\u001b[0m: get_img() missing 2 required positional arguments: 'api' and 'username'"
     ]
    }
   ],
   "source": [
    "if __name__ == \"__main__\": \n",
    "    get_img()\n",
    "    get_cats()"
   ]
  }
 ],
 "metadata": {
  "kernelspec": {
   "display_name": "Python 3",
   "language": "python",
   "name": "python3"
  },
  "language_info": {
   "codemirror_mode": {
    "name": "ipython",
    "version": 3
   },
   "file_extension": ".py",
   "mimetype": "text/x-python",
   "name": "python",
   "nbconvert_exporter": "python",
   "pygments_lexer": "ipython3",
   "version": "3.7.4"
  }
 },
 "nbformat": 4,
 "nbformat_minor": 2
}
